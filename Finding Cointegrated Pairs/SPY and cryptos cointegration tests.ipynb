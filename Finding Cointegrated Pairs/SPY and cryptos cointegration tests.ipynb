{
 "cells": [
  {
   "cell_type": "code",
   "execution_count": 1,
   "metadata": {},
   "outputs": [],
   "source": [
    "from statsmodels.tsa.stattools import coint\n",
    "import pandas as pd"
   ]
  },
  {
   "cell_type": "code",
   "execution_count": 4,
   "metadata": {},
   "outputs": [],
   "source": [
    "spy = pd.read_csv('Price Data/SPY.csv')\n",
    "spy_close = spy['Close']"
   ]
  },
  {
   "cell_type": "code",
   "execution_count": 9,
   "metadata": {},
   "outputs": [
    {
     "name": "stdout",
     "output_type": "stream",
     "text": [
      "NULS is cointegrated p = 0.030031163307047946\n",
      "UTK is cointegrated p = 0.042204444284934924\n",
      "XLM is cointegrated p = 0.032916652014860846\n",
      "XRP is cointegrated p = 0.00495158148049381\n"
     ]
    }
   ],
   "source": [
    "symbols = ['ADA', 'AION', 'ANT', 'ARDR', 'BAT', 'BCC', 'BCH', 'BLZ', 'BNB', 'BNT', 'BTC', 'BTS', 'BUSD', 'CTXC', 'CVC', 'DAI', 'DASH', 'DATA', 'DCR', 'DENT', 'DGB', 'DNT', 'DOGE', 'ENJ', 'EOS', 'ETC', 'ETH', 'FUN', 'GTO', 'GXS', 'ICX', 'IOST', 'IOTA', 'IOTX', 'KMD', 'KNC', 'LEND', 'LINK', 'LRC', 'LSK', 'LTC', 'MANA', 'MCO', 'MITH', 'MKR', 'NANO', 'NEO', 'NMR', 'NPXS', 'NULS', 'OMG', 'ONT', 'QTUM', 'REP', 'RLC', 'SC', 'SNX', 'STORJ', 'STORM', 'STRAT', 'STX', 'THETA', 'TRX', 'TUSD', 'UTK', 'VEN', 'WAN', 'WAVES', 'WTC', 'XLM', 'XMR', 'XRP', 'XTZ', 'XZC', 'ZEC', 'ZEN', 'ZIL', 'ZRX']\n",
    "\n",
    "cointegrated_pairs = {}\n",
    "for symbol in symbols:\n",
    "    temp = spy_close\n",
    "    df = pd.read_csv('Price Data/{}.csv'.format(symbol))\n",
    "    df_close = df['close']\n",
    "    temp = temp[-len(df_close):]\n",
    "    pval = coint(temp, df_close)[1]\n",
    "    \n",
    "    if pval < 0.05:\n",
    "        cointegrated_pairs[symbol] = df_close\n",
    "        print(\"{} is cointegrated\".format(symbol), \"p = {}\".format(pval))\n",
    "    \n",
    "    \n",
    "    "
   ]
  }
 ],
 "metadata": {
  "kernelspec": {
   "display_name": "Python 3",
   "language": "python",
   "name": "python3"
  },
  "language_info": {
   "codemirror_mode": {
    "name": "ipython",
    "version": 3
   },
   "file_extension": ".py",
   "mimetype": "text/x-python",
   "name": "python",
   "nbconvert_exporter": "python",
   "pygments_lexer": "ipython3",
   "version": "3.7.3"
  }
 },
 "nbformat": 4,
 "nbformat_minor": 4
}
