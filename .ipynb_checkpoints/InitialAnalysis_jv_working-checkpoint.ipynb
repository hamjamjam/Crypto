{
 "cells": [
  {
   "cell_type": "markdown",
   "metadata": {},
   "source": [
    "# 5502 Data Mining Final Project\n",
    "\n",
    "Collaborators: John Palmer, Jamie Voros, Warren Fulton\n",
    "\n",
    "\n",
    "### Midterm review\n",
    "In this notebook, we pull data from our .csv files into the Jupyter Notebook environment.\n",
    "\n",
    "We are using Kaggle's [Crude Oil](https://www.kaggle.com/awadhi123/crude-oil-stock-price) data to begin with and plan to pull in several more databases containing market data."
   ]
  },
  {
   "cell_type": "code",
   "execution_count": 210,
   "metadata": {},
   "outputs": [
    {
     "data": {
      "text/html": [
       "<div>\n",
       "<style scoped>\n",
       "    .dataframe tbody tr th:only-of-type {\n",
       "        vertical-align: middle;\n",
       "    }\n",
       "\n",
       "    .dataframe tbody tr th {\n",
       "        vertical-align: top;\n",
       "    }\n",
       "\n",
       "    .dataframe thead th {\n",
       "        text-align: right;\n",
       "    }\n",
       "</style>\n",
       "<table border=\"1\" class=\"dataframe\">\n",
       "  <thead>\n",
       "    <tr style=\"text-align: right;\">\n",
       "      <th></th>\n",
       "      <th>Date</th>\n",
       "      <th>Open</th>\n",
       "      <th>High</th>\n",
       "      <th>Low</th>\n",
       "      <th>Close</th>\n",
       "      <th>Adj Close</th>\n",
       "      <th>Volume</th>\n",
       "      <th>Price</th>\n",
       "    </tr>\n",
       "  </thead>\n",
       "  <tbody>\n",
       "    <tr>\n",
       "      <th>0</th>\n",
       "      <td>2000-03-22</td>\n",
       "      <td>27.65</td>\n",
       "      <td>28.250000</td>\n",
       "      <td>27.250000</td>\n",
       "      <td>27.459999</td>\n",
       "      <td>27.459999</td>\n",
       "      <td>92302.0</td>\n",
       "      <td>27.459999</td>\n",
       "    </tr>\n",
       "    <tr>\n",
       "      <th>1</th>\n",
       "      <td>2000-03-23</td>\n",
       "      <td>27.65</td>\n",
       "      <td>27.780001</td>\n",
       "      <td>27.160000</td>\n",
       "      <td>27.309999</td>\n",
       "      <td>27.309999</td>\n",
       "      <td>79373.0</td>\n",
       "      <td>27.309999</td>\n",
       "    </tr>\n",
       "    <tr>\n",
       "      <th>2</th>\n",
       "      <td>2000-03-24</td>\n",
       "      <td>27.85</td>\n",
       "      <td>28.150000</td>\n",
       "      <td>27.549999</td>\n",
       "      <td>27.980000</td>\n",
       "      <td>27.980000</td>\n",
       "      <td>55693.0</td>\n",
       "      <td>27.980000</td>\n",
       "    </tr>\n",
       "    <tr>\n",
       "      <th>4</th>\n",
       "      <td>2000-03-27</td>\n",
       "      <td>27.65</td>\n",
       "      <td>28.020000</td>\n",
       "      <td>27.410000</td>\n",
       "      <td>27.730000</td>\n",
       "      <td>27.730000</td>\n",
       "      <td>59199.0</td>\n",
       "      <td>27.730000</td>\n",
       "    </tr>\n",
       "    <tr>\n",
       "      <th>5</th>\n",
       "      <td>2000-03-28</td>\n",
       "      <td>27.60</td>\n",
       "      <td>27.870001</td>\n",
       "      <td>27.000000</td>\n",
       "      <td>27.080000</td>\n",
       "      <td>27.080000</td>\n",
       "      <td>39487.0</td>\n",
       "      <td>27.080000</td>\n",
       "    </tr>\n",
       "  </tbody>\n",
       "</table>\n",
       "</div>"
      ],
      "text/plain": [
       "         Date   Open       High        Low      Close  Adj Close   Volume  \\\n",
       "0  2000-03-22  27.65  28.250000  27.250000  27.459999  27.459999  92302.0   \n",
       "1  2000-03-23  27.65  27.780001  27.160000  27.309999  27.309999  79373.0   \n",
       "2  2000-03-24  27.85  28.150000  27.549999  27.980000  27.980000  55693.0   \n",
       "4  2000-03-27  27.65  28.020000  27.410000  27.730000  27.730000  59199.0   \n",
       "5  2000-03-28  27.60  27.870001  27.000000  27.080000  27.080000  39487.0   \n",
       "\n",
       "       Price  \n",
       "0  27.459999  \n",
       "1  27.309999  \n",
       "2  27.980000  \n",
       "4  27.730000  \n",
       "5  27.080000  "
      ]
     },
     "execution_count": 210,
     "metadata": {},
     "output_type": "execute_result"
    }
   ],
   "source": [
    "import pandas as pd\n",
    "\n",
    "USOdf = pd.read_csv (r'crudeoil.csv')\n",
    "USOdf['Price'] = USOdf['Close']\n",
    "USOdf = USOdf.dropna()\n",
    "USOdf.head()"
   ]
  },
  {
   "cell_type": "code",
   "execution_count": 216,
   "metadata": {},
   "outputs": [
    {
     "data": {
      "text/html": [
       "<div>\n",
       "<style scoped>\n",
       "    .dataframe tbody tr th:only-of-type {\n",
       "        vertical-align: middle;\n",
       "    }\n",
       "\n",
       "    .dataframe tbody tr th {\n",
       "        vertical-align: top;\n",
       "    }\n",
       "\n",
       "    .dataframe thead th {\n",
       "        text-align: right;\n",
       "    }\n",
       "</style>\n",
       "<table border=\"1\" class=\"dataframe\">\n",
       "  <thead>\n",
       "    <tr style=\"text-align: right;\">\n",
       "      <th></th>\n",
       "      <th>Date</th>\n",
       "      <th>Open</th>\n",
       "      <th>High</th>\n",
       "      <th>Low</th>\n",
       "      <th>Close</th>\n",
       "      <th>Adj Close</th>\n",
       "      <th>Volume</th>\n",
       "      <th>Price</th>\n",
       "    </tr>\n",
       "  </thead>\n",
       "  <tbody>\n",
       "    <tr>\n",
       "      <th>0</th>\n",
       "      <td>1993-01-29</td>\n",
       "      <td>43.96875</td>\n",
       "      <td>43.96875</td>\n",
       "      <td>43.75000</td>\n",
       "      <td>43.93750</td>\n",
       "      <td>26.079659</td>\n",
       "      <td>1003200</td>\n",
       "      <td>43.93750</td>\n",
       "    </tr>\n",
       "    <tr>\n",
       "      <th>1</th>\n",
       "      <td>1993-02-01</td>\n",
       "      <td>43.96875</td>\n",
       "      <td>44.25000</td>\n",
       "      <td>43.96875</td>\n",
       "      <td>44.25000</td>\n",
       "      <td>26.265144</td>\n",
       "      <td>480500</td>\n",
       "      <td>44.25000</td>\n",
       "    </tr>\n",
       "    <tr>\n",
       "      <th>2</th>\n",
       "      <td>1993-02-02</td>\n",
       "      <td>44.21875</td>\n",
       "      <td>44.37500</td>\n",
       "      <td>44.12500</td>\n",
       "      <td>44.34375</td>\n",
       "      <td>26.320782</td>\n",
       "      <td>201300</td>\n",
       "      <td>44.34375</td>\n",
       "    </tr>\n",
       "    <tr>\n",
       "      <th>3</th>\n",
       "      <td>1993-02-03</td>\n",
       "      <td>44.40625</td>\n",
       "      <td>44.84375</td>\n",
       "      <td>44.37500</td>\n",
       "      <td>44.81250</td>\n",
       "      <td>26.599014</td>\n",
       "      <td>529400</td>\n",
       "      <td>44.81250</td>\n",
       "    </tr>\n",
       "    <tr>\n",
       "      <th>4</th>\n",
       "      <td>1993-02-04</td>\n",
       "      <td>44.96875</td>\n",
       "      <td>45.09375</td>\n",
       "      <td>44.46875</td>\n",
       "      <td>45.00000</td>\n",
       "      <td>26.710312</td>\n",
       "      <td>531500</td>\n",
       "      <td>45.00000</td>\n",
       "    </tr>\n",
       "  </tbody>\n",
       "</table>\n",
       "</div>"
      ],
      "text/plain": [
       "         Date      Open      High       Low     Close  Adj Close   Volume  \\\n",
       "0  1993-01-29  43.96875  43.96875  43.75000  43.93750  26.079659  1003200   \n",
       "1  1993-02-01  43.96875  44.25000  43.96875  44.25000  26.265144   480500   \n",
       "2  1993-02-02  44.21875  44.37500  44.12500  44.34375  26.320782   201300   \n",
       "3  1993-02-03  44.40625  44.84375  44.37500  44.81250  26.599014   529400   \n",
       "4  1993-02-04  44.96875  45.09375  44.46875  45.00000  26.710312   531500   \n",
       "\n",
       "      Price  \n",
       "0  43.93750  \n",
       "1  44.25000  \n",
       "2  44.34375  \n",
       "3  44.81250  \n",
       "4  45.00000  "
      ]
     },
     "execution_count": 216,
     "metadata": {},
     "output_type": "execute_result"
    }
   ],
   "source": [
    "SPYdf = pd.read_csv (r'SPY.csv')\n",
    "SPYdf['Price'] = SPYdf['Close']\n",
    "SPYdf = SPYdf.dropna()\n",
    "SPYdf.head()"
   ]
  },
  {
   "cell_type": "code",
   "execution_count": null,
   "metadata": {},
   "outputs": [],
   "source": [
    "BTCdf = pd.read_csv (r'CRYUSD/BTCUSD.csv')\n",
    "BTCdf.head()"
   ]
  },
  {
   "cell_type": "code",
   "execution_count": 218,
   "metadata": {},
   "outputs": [
    {
     "data": {
      "text/html": [
       "<div>\n",
       "<style scoped>\n",
       "    .dataframe tbody tr th:only-of-type {\n",
       "        vertical-align: middle;\n",
       "    }\n",
       "\n",
       "    .dataframe tbody tr th {\n",
       "        vertical-align: top;\n",
       "    }\n",
       "\n",
       "    .dataframe thead th {\n",
       "        text-align: right;\n",
       "    }\n",
       "</style>\n",
       "<table border=\"1\" class=\"dataframe\">\n",
       "  <thead>\n",
       "    <tr style=\"text-align: right;\">\n",
       "      <th></th>\n",
       "      <th>Date</th>\n",
       "      <th>Price</th>\n",
       "      <th>Open</th>\n",
       "      <th>High</th>\n",
       "      <th>Low</th>\n",
       "      <th>Vol.</th>\n",
       "      <th>Change %</th>\n",
       "    </tr>\n",
       "  </thead>\n",
       "  <tbody>\n",
       "    <tr>\n",
       "      <th>0</th>\n",
       "      <td>Nov 11, 2020</td>\n",
       "      <td>59.339</td>\n",
       "      <td>57.950</td>\n",
       "      <td>59.725</td>\n",
       "      <td>57.950</td>\n",
       "      <td>397.23K</td>\n",
       "      <td>2.42%</td>\n",
       "    </tr>\n",
       "    <tr>\n",
       "      <th>1</th>\n",
       "      <td>Nov 10, 2020</td>\n",
       "      <td>57.939</td>\n",
       "      <td>59.238</td>\n",
       "      <td>59.238</td>\n",
       "      <td>57.939</td>\n",
       "      <td>335.47K</td>\n",
       "      <td>-2.19%</td>\n",
       "    </tr>\n",
       "    <tr>\n",
       "      <th>2</th>\n",
       "      <td>Nov 09, 2020</td>\n",
       "      <td>59.238</td>\n",
       "      <td>61.014</td>\n",
       "      <td>61.104</td>\n",
       "      <td>58.988</td>\n",
       "      <td>473.85K</td>\n",
       "      <td>-2.86%</td>\n",
       "    </tr>\n",
       "    <tr>\n",
       "      <th>3</th>\n",
       "      <td>Nov 08, 2020</td>\n",
       "      <td>60.983</td>\n",
       "      <td>58.881</td>\n",
       "      <td>60.983</td>\n",
       "      <td>58.881</td>\n",
       "      <td>401.22K</td>\n",
       "      <td>3.57%</td>\n",
       "    </tr>\n",
       "    <tr>\n",
       "      <th>4</th>\n",
       "      <td>Nov 07, 2020</td>\n",
       "      <td>58.881</td>\n",
       "      <td>63.179</td>\n",
       "      <td>63.179</td>\n",
       "      <td>58.881</td>\n",
       "      <td>941.52K</td>\n",
       "      <td>-6.80%</td>\n",
       "    </tr>\n",
       "  </tbody>\n",
       "</table>\n",
       "</div>"
      ],
      "text/plain": [
       "           Date   Price    Open    High     Low     Vol. Change %\n",
       "0  Nov 11, 2020  59.339  57.950  59.725  57.950  397.23K    2.42%\n",
       "1  Nov 10, 2020  57.939  59.238  59.238  57.939  335.47K   -2.19%\n",
       "2  Nov 09, 2020  59.238  61.014  61.104  58.988  473.85K   -2.86%\n",
       "3  Nov 08, 2020  60.983  58.881  60.983  58.881  401.22K    3.57%\n",
       "4  Nov 07, 2020  58.881  63.179  63.179  58.881  941.52K   -6.80%"
      ]
     },
     "execution_count": 218,
     "metadata": {},
     "output_type": "execute_result"
    }
   ],
   "source": [
    "LTCdf = pd.read_csv (r'CRYUSD/LTCUSD.csv')\n",
    "LTCdf.head()"
   ]
  },
  {
   "cell_type": "code",
   "execution_count": 15,
   "metadata": {},
   "outputs": [
    {
     "data": {
      "text/html": [
       "<div>\n",
       "<style scoped>\n",
       "    .dataframe tbody tr th:only-of-type {\n",
       "        vertical-align: middle;\n",
       "    }\n",
       "\n",
       "    .dataframe tbody tr th {\n",
       "        vertical-align: top;\n",
       "    }\n",
       "\n",
       "    .dataframe thead th {\n",
       "        text-align: right;\n",
       "    }\n",
       "</style>\n",
       "<table border=\"1\" class=\"dataframe\">\n",
       "  <thead>\n",
       "    <tr style=\"text-align: right;\">\n",
       "      <th></th>\n",
       "      <th>Date</th>\n",
       "      <th>Price</th>\n",
       "      <th>Open</th>\n",
       "      <th>High</th>\n",
       "      <th>Low</th>\n",
       "      <th>Vol.</th>\n",
       "      <th>Change %</th>\n",
       "    </tr>\n",
       "  </thead>\n",
       "  <tbody>\n",
       "    <tr>\n",
       "      <th>0</th>\n",
       "      <td>Nov 11, 2020</td>\n",
       "      <td>466.60</td>\n",
       "      <td>450.65</td>\n",
       "      <td>474.15</td>\n",
       "      <td>450.65</td>\n",
       "      <td>97.93K</td>\n",
       "      <td>3.54%</td>\n",
       "    </tr>\n",
       "    <tr>\n",
       "      <th>1</th>\n",
       "      <td>Nov 10, 2020</td>\n",
       "      <td>450.65</td>\n",
       "      <td>444.53</td>\n",
       "      <td>452.89</td>\n",
       "      <td>443.06</td>\n",
       "      <td>45.81K</td>\n",
       "      <td>1.38%</td>\n",
       "    </tr>\n",
       "    <tr>\n",
       "      <th>2</th>\n",
       "      <td>Nov 09, 2020</td>\n",
       "      <td>444.53</td>\n",
       "      <td>455.17</td>\n",
       "      <td>456.67</td>\n",
       "      <td>441.48</td>\n",
       "      <td>70.69K</td>\n",
       "      <td>-2.34%</td>\n",
       "    </tr>\n",
       "    <tr>\n",
       "      <th>3</th>\n",
       "      <td>Nov 08, 2020</td>\n",
       "      <td>455.17</td>\n",
       "      <td>435.96</td>\n",
       "      <td>456.74</td>\n",
       "      <td>435.96</td>\n",
       "      <td>67.84K</td>\n",
       "      <td>4.41%</td>\n",
       "    </tr>\n",
       "    <tr>\n",
       "      <th>4</th>\n",
       "      <td>Nov 07, 2020</td>\n",
       "      <td>435.96</td>\n",
       "      <td>455.59</td>\n",
       "      <td>463.66</td>\n",
       "      <td>432.17</td>\n",
       "      <td>234.67K</td>\n",
       "      <td>-4.31%</td>\n",
       "    </tr>\n",
       "  </tbody>\n",
       "</table>\n",
       "</div>"
      ],
      "text/plain": [
       "           Date   Price    Open    High     Low     Vol. Change %\n",
       "0  Nov 11, 2020  466.60  450.65  474.15  450.65   97.93K    3.54%\n",
       "1  Nov 10, 2020  450.65  444.53  452.89  443.06   45.81K    1.38%\n",
       "2  Nov 09, 2020  444.53  455.17  456.67  441.48   70.69K   -2.34%\n",
       "3  Nov 08, 2020  455.17  435.96  456.74  435.96   67.84K    4.41%\n",
       "4  Nov 07, 2020  435.96  455.59  463.66  432.17  234.67K   -4.31%"
      ]
     },
     "execution_count": 15,
     "metadata": {},
     "output_type": "execute_result"
    }
   ],
   "source": [
    "ETHdf = pd.read_csv (r'CRYUSD/ETHUSD.csv')\n",
    "ETHdf.head()"
   ]
  },
  {
   "cell_type": "code",
   "execution_count": 221,
   "metadata": {},
   "outputs": [],
   "source": [
    "def pairsAnalysis(df1, df2, purchase = 100, window=10, daysBetweenFlatten = 5):\n",
    "    \n",
    "    \"\"\"\n",
    "    df1: data frame, containing trades data of product 1\n",
    "    df2: data frame, containing trades data of product 2\n",
    "         Product 1 and 2 must be in the same currency\n",
    "    purchase: float, the amount (in currency) we buy and sell each day\n",
    "    window: int, number of days in window\n",
    "    daysBewteenFlatten: int, number of days we go between position flattening.\n",
    "    \"\"\"\n",
    "    \n",
    "    from datetime import datetime, timedelta\n",
    "    import pandas as pd\n",
    "    \n",
    "    try:\n",
    "        dates1 = pd.to_datetime(df1['Date'])\n",
    "        dates2 = pd.to_datetime(df2['Date'])\n",
    "        startDate = max(min(dates1), min(dates2))\n",
    "        endDate = min(max(dates1),max(dates2))\n",
    "    except:\n",
    "        print('Formatting error')\n",
    "        return\n",
    "    \n",
    "    assert startDate < endDate, 'No date overlap'\n",
    "    \n",
    "    df1['DateNumeric'] = dates1\n",
    "    df2['DateNumeric'] = dates2\n",
    "    \n",
    "    position1 = 0\n",
    "    position2 = 0\n",
    "    PnL = 0\n",
    "    \n",
    "    PnLvec = []\n",
    "    position1vec = []\n",
    "    position2vec = []\n",
    "    price1vec = []\n",
    "    price2vec = []\n",
    "    \n",
    "    i=0\n",
    "    \n",
    "    for Date in daterange(startDate, endDate - timedelta(days = window)):\n",
    "        windowStart = Date\n",
    "        windowEnd = Date + timedelta(days = window)\n",
    "        \n",
    "        if list(df1[(df1['DateNumeric'] == windowEnd)]['Price']) == [] or list(df2[(df2['DateNumeric'] == windowEnd)]['Price']) == []:\n",
    "            continue\n",
    "    \n",
    "        df1Trim = df1[(df1['DateNumeric'] >= windowStart) & (df1['DateNumeric'] < windowEnd)]\n",
    "        df2Trim = df2[(df2['DateNumeric'] >= windowStart) & (df2['DateNumeric'] < windowEnd)]\n",
    "        \n",
    "        try:\n",
    "            prices1 = [float(x.replace(',','')) for x in list(df1Trim['Price'])]\n",
    "        except:\n",
    "            prices1 = [float(x) for x in list(df1Trim['Price'])]\n",
    "        try:\n",
    "            prices2 = [float(x.replace(',','')) for x in list(df2Trim['Price'])]\n",
    "        except:\n",
    "            prices2 = [float(x) for x in list(df2Trim['Price'])]\n",
    "        \n",
    "        totalDiff = sum(prices1) - sum(prices2)\n",
    "        avgDiff = totalDiff/window\n",
    "        \n",
    "        try:\n",
    "            price1 = float(list(df1[(df1['DateNumeric'] == windowEnd)]['Price'])[0].replace(',',''))\n",
    "        except:\n",
    "            try:\n",
    "                price1 = list(df1[(df1['DateNumeric'] == windowEnd)]['Price'])[0]\n",
    "            except:\n",
    "                pass\n",
    "        try:\n",
    "            price2 = float(list(df2[(df2['DateNumeric'] == windowEnd)]['Price'])[0].replace(',',''))\n",
    "        except:\n",
    "            try:\n",
    "                price2 = list(df2[(df2['DateNumeric'] == windowEnd)]['Price'])[0]\n",
    "            except:\n",
    "                pass\n",
    "            \n",
    "        diff = price1 - price2\n",
    "        \n",
    "        if diff > avgDiff:\n",
    "            position2 += purchase/price2\n",
    "            position1 -= purchase/price1\n",
    "\n",
    "        elif diff < avgDiff:\n",
    "            position1 += purchase/price1\n",
    "            position2 -= purchase/price2\n",
    "        else:\n",
    "            pass\n",
    "        \n",
    "        if i %daysBetweenFlatten == 0:\n",
    "            PnL += price1*position1*-1 + price2*position2*-1  \n",
    "            position1 = 0\n",
    "            position2 = 0\n",
    "            \n",
    "        PnLvec.append(PnL)\n",
    "        position1vec.append(position1)\n",
    "        position2vec.append(position2)\n",
    "        price1vec.append(price1)\n",
    "        price2vec.append(price2)\n",
    "        i += 1\n",
    "    \n",
    "    if position1 != 0 or position2 != 0:\n",
    "        PnL += price1vec[-1]*position1*-1 + price2vec[-1]*position2*-1  \n",
    "        position1 = 0\n",
    "        position2 = 0\n",
    "        \n",
    "        PnLvec.append(PnL)\n",
    "        position1vec.append(position1)\n",
    "        position2vec.append(position2)\n",
    "        \n",
    "    return PnLvec, position1vec, position2vec, price1vec, price2vec\n",
    "\n",
    "\n",
    "def daterange(start_date, end_date):\n",
    "    for n in range(int((end_date - start_date).days)):\n",
    "        yield start_date + timedelta(n)     "
   ]
  },
  {
   "cell_type": "code",
   "execution_count": 222,
   "metadata": {},
   "outputs": [
    {
     "data": {
      "text/plain": [
       "Text(0, 0.5, 'PnL (USD)')"
      ]
     },
     "execution_count": 222,
     "metadata": {},
     "output_type": "execute_result"
    },
    {
     "data": {
      "image/png": "[encoded data removed]",
      "text/plain": [
       "<Figure size 432x288 with 1 Axes>"
      ]
     },
     "metadata": {
      "needs_background": "light"
     },
     "output_type": "display_data"
    }
   ],
   "source": [
    "PnLvec, position1vec, position2vec, price1vec, price2vec = pairsAnalysis(BTCdf, USOdf, purchase = 1000, window=10, daysBetweenFlatten = 5)\n",
    "\n",
    "plt.plot(PnLvec)\n",
    "plt.title(\"Plot to show PnL against Trading Day \\n BTC vs USO\")\n",
    "plt.xlabel(\"Trading Day\")\n",
    "plt.ylabel(\"PnL (USD)\")\n"
   ]
  },
  {
   "cell_type": "code",
   "execution_count": 223,
   "metadata": {},
   "outputs": [
    {
     "data": {
      "text/plain": [
       "Text(0, 0.5, 'PnL (USD)')"
      ]
     },
     "execution_count": 223,
     "metadata": {},
     "output_type": "execute_result"
    },
    {
     "data": {
      "image/png": "[encoded data removed]",
      "text/plain": [
       "<Figure size 432x288 with 1 Axes>"
      ]
     },
     "metadata": {
      "needs_background": "light"
     },
     "output_type": "display_data"
    }
   ],
   "source": [
    "PnLvec, position1vec, position2vec, price1vec, price2vec = pairsAnalysis(BTCdf, ETHdf, purchase = 1000, window=10, daysBetweenFlatten = 5)\n",
    "\n",
    "plt.plot(PnLvec)\n",
    "plt.title(\"Plot to show PnL against Trading Day \\n BTC vs ETH\")\n",
    "plt.xlabel(\"Trading Day\")\n",
    "plt.ylabel(\"PnL (USD)\")\n"
   ]
  },
  {
   "cell_type": "code",
   "execution_count": 227,
   "metadata": {},
   "outputs": [
    {
     "data": {
      "text/plain": [
       "Text(0, 0.5, 'PnL (USD)')"
      ]
     },
     "execution_count": 227,
     "metadata": {},
     "output_type": "execute_result"
    },
    {
     "data": {
      "image/png": "[encoded data removed]",
      "text/plain": [
       "<Figure size 432x288 with 1 Axes>"
      ]
     },
     "metadata": {
      "needs_background": "light"
     },
     "output_type": "display_data"
    }
   ],
   "source": [
    "PnLvec, position1vec, position2vec, price1vec, price2vec = pairsAnalysis(BTCdf, SPYdf, purchase = 1000, window=15, daysBetweenFlatten = 2)\n",
    "\n",
    "plt.plot(PnLvec)\n",
    "plt.title(\"Plot to show PnL against Trading Day \\n BTC vs SPY\")\n",
    "plt.xlabel(\"Trading Day\")\n",
    "plt.ylabel(\"PnL (USD)\")\n"
   ]
  },
  {
   "cell_type": "code",
   "execution_count": 228,
   "metadata": {},
   "outputs": [
    {
     "data": {
      "text/plain": [
       "Text(0, 0.5, 'PnL (USD)')"
      ]
     },
     "execution_count": 228,
     "metadata": {},
     "output_type": "execute_result"
    },
    {
     "data": {
      "image/png": "[encoded data removed]",
      "text/plain": [
       "<Figure size 432x288 with 1 Axes>"
      ]
     },
     "metadata": {
      "needs_background": "light"
     },
     "output_type": "display_data"
    }
   ],
   "source": [
    "PnLvec, position1vec, position2vec, price1vec, price2vec = pairsAnalysis(BTCdf, LTCdf, purchase = 5000, window=10, daysBetweenFlatten = 5)\n",
    "\n",
    "plt.plot(PnLvec)\n",
    "plt.title(\"Plot to show PnL against Trading Day \\n BTC vs LTC\")\n",
    "plt.xlabel(\"Trading Day\")\n",
    "plt.ylabel(\"PnL (USD)\")\n"
   ]
  },
  {
   "cell_type": "code",
   "execution_count": 220,
   "metadata": {},
   "outputs": [
    {
     "data": {
      "text/plain": [
       "Text(0, 0.5, 'PnL (USD)')"
      ]
     },
     "execution_count": 220,
     "metadata": {},
     "output_type": "execute_result"
    },
    {
     "data": {
      "image/png": "[encoded data removed]",
      "text/plain": [
       "<Figure size 432x288 with 1 Axes>"
      ]
     },
     "metadata": {
      "needs_background": "light"
     },
     "output_type": "display_data"
    }
   ],
   "source": [
    "PnLvec, position1vec, position2vec, price1vec, price2vec = pairsAnalysis(SPYdf, USOdf, purchase = 1000, window=10, daysBetweenFlatten = 5)\n",
    "\n",
    "plt.plot(PnLvec)\n",
    "plt.title(\"Plot to show PnL against Trading Day \\n SPY vs USO\")\n",
    "plt.xlabel(\"Trading Day\")\n",
    "plt.ylabel(\"PnL (USD)\")\n"
   ]
  },
  {
   "cell_type": "code",
   "execution_count": null,
   "metadata": {},
   "outputs": [],
   "source": []
  }
 ],
 "metadata": {
  "kernelspec": {
   "display_name": "Python 3",
   "language": "python",
   "name": "python3"
  },
  "language_info": {
   "codemirror_mode": {
    "name": "ipython",
    "version": 3
   },
   "file_extension": ".py",
   "mimetype": "text/x-python",
   "name": "python",
   "nbconvert_exporter": "python",
   "pygments_lexer": "ipython3",
   "version": "3.7.1"
  }
 },
 "nbformat": 4,
 "nbformat_minor": 2
}
