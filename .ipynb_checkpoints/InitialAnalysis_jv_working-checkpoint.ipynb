{
 "cells": [
  {
   "cell_type": "markdown",
   "metadata": {},
   "source": [
    "# 5502 Data Mining Final Project\n",
    "\n",
    "Collaborators: John Palmer, Jamie Voros, Warren Fulton\n",
    "\n",
    "\n",
    "### Midterm review\n",
    "In this notebook, we pull data from our .csv files into the Jupyter Notebook environment.\n",
    "\n",
    "We are using Kaggle's [Crude Oil](https://www.kaggle.com/awadhi123/crude-oil-stock-price) data to begin with and plan to pull in several more databases containing market data."
   ]
  },
  {
   "cell_type": "code",
   "execution_count": 1,
   "metadata": {},
   "outputs": [
    {
     "data": {
      "text/html": [
       "<div>\n",
       "<style scoped>\n",
       "    .dataframe tbody tr th:only-of-type {\n",
       "        vertical-align: middle;\n",
       "    }\n",
       "\n",
       "    .dataframe tbody tr th {\n",
       "        vertical-align: top;\n",
       "    }\n",
       "\n",
       "    .dataframe thead th {\n",
       "        text-align: right;\n",
       "    }\n",
       "</style>\n",
       "<table border=\"1\" class=\"dataframe\">\n",
       "  <thead>\n",
       "    <tr style=\"text-align: right;\">\n",
       "      <th></th>\n",
       "      <th>Date</th>\n",
       "      <th>Open</th>\n",
       "      <th>High</th>\n",
       "      <th>Low</th>\n",
       "      <th>Close</th>\n",
       "      <th>Adj Close</th>\n",
       "      <th>Volume</th>\n",
       "    </tr>\n",
       "  </thead>\n",
       "  <tbody>\n",
       "    <tr>\n",
       "      <th>0</th>\n",
       "      <td>2000-03-22</td>\n",
       "      <td>27.65</td>\n",
       "      <td>28.250000</td>\n",
       "      <td>27.250000</td>\n",
       "      <td>27.459999</td>\n",
       "      <td>27.459999</td>\n",
       "      <td>92302.0</td>\n",
       "    </tr>\n",
       "    <tr>\n",
       "      <th>1</th>\n",
       "      <td>2000-03-23</td>\n",
       "      <td>27.65</td>\n",
       "      <td>27.780001</td>\n",
       "      <td>27.160000</td>\n",
       "      <td>27.309999</td>\n",
       "      <td>27.309999</td>\n",
       "      <td>79373.0</td>\n",
       "    </tr>\n",
       "    <tr>\n",
       "      <th>2</th>\n",
       "      <td>2000-03-24</td>\n",
       "      <td>27.85</td>\n",
       "      <td>28.150000</td>\n",
       "      <td>27.549999</td>\n",
       "      <td>27.980000</td>\n",
       "      <td>27.980000</td>\n",
       "      <td>55693.0</td>\n",
       "    </tr>\n",
       "    <tr>\n",
       "      <th>3</th>\n",
       "      <td>2000-03-26</td>\n",
       "      <td>NaN</td>\n",
       "      <td>NaN</td>\n",
       "      <td>NaN</td>\n",
       "      <td>NaN</td>\n",
       "      <td>NaN</td>\n",
       "      <td>NaN</td>\n",
       "    </tr>\n",
       "    <tr>\n",
       "      <th>4</th>\n",
       "      <td>2000-03-27</td>\n",
       "      <td>27.65</td>\n",
       "      <td>28.020000</td>\n",
       "      <td>27.410000</td>\n",
       "      <td>27.730000</td>\n",
       "      <td>27.730000</td>\n",
       "      <td>59199.0</td>\n",
       "    </tr>\n",
       "  </tbody>\n",
       "</table>\n",
       "</div>"
      ],
      "text/plain": [
       "         Date   Open       High        Low      Close  Adj Close   Volume\n",
       "0  2000-03-22  27.65  28.250000  27.250000  27.459999  27.459999  92302.0\n",
       "1  2000-03-23  27.65  27.780001  27.160000  27.309999  27.309999  79373.0\n",
       "2  2000-03-24  27.85  28.150000  27.549999  27.980000  27.980000  55693.0\n",
       "3  2000-03-26    NaN        NaN        NaN        NaN        NaN      NaN\n",
       "4  2000-03-27  27.65  28.020000  27.410000  27.730000  27.730000  59199.0"
      ]
     },
     "execution_count": 1,
     "metadata": {},
     "output_type": "execute_result"
    }
   ],
   "source": [
    "import pandas as pd\n",
    "\n",
    "crudeOilDF = pd.read_csv (r'crudeoil.csv')\n",
    "crudeOilDF.head()"
   ]
  },
  {
   "cell_type": "code",
   "execution_count": null,
   "metadata": {},
   "outputs": [],
   "source": []
  }
 ],
 "metadata": {
  "kernelspec": {
   "display_name": "Python 3",
   "language": "python",
   "name": "python3"
  },
  "language_info": {
   "codemirror_mode": {
    "name": "ipython",
    "version": 3
   },
   "file_extension": ".py",
   "mimetype": "text/x-python",
   "name": "python",
   "nbconvert_exporter": "python",
   "pygments_lexer": "ipython3",
   "version": "3.7.1"
  }
 },
 "nbformat": 4,
 "nbformat_minor": 2
}
