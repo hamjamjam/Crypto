{
 "cells": [
  {
   "cell_type": "code",
   "execution_count": 1,
   "metadata": {},
   "outputs": [],
   "source": [
    "from statsmodels.tsa.stattools import coint\n",
    "import pandas as pd"
   ]
  },
  {
   "cell_type": "code",
   "execution_count": 19,
   "metadata": {},
   "outputs": [
    {
     "name": "stdout",
     "output_type": "stream",
     "text": [
      "SPY/USO 0.0\n",
      "SPY/BTC 0.09254985445707131\n",
      "SPY/ETH 0.7000468315090003\n",
      "SPY/LTC 0.75380965135101\n"
     ]
    },
    {
     "name": "stderr",
     "output_type": "stream",
     "text": [
      "/Users/warrenfulton/anaconda3/lib/python3.7/site-packages/statsmodels/tsa/stattools.py:1398: CollinearityWarning: y0 and y1 are (almost) perfectly colinear.Cointegration test is not reliable in this case.\n",
      "  CollinearityWarning)\n"
     ]
    }
   ],
   "source": [
    "df_1 = pd.read_csv('SPY.csv')\n",
    "df_2 = pd.read_csv('crudeoil.csv')\n",
    "btc = pd.read_csv('BTC.csv')\n",
    "eth = pd.read_csv('ETH.csv')\n",
    "ltc = pd.read_csv('LTC.csv')\n",
    "\n",
    "btc_close = btc['close']\n",
    "eth_close = eth['close']\n",
    "ltc_close = ltc['close']\n",
    "\n",
    "oil_close = df_2['Close']\n",
    "spy_close = df_1['Close']\n",
    "spy_close = spy_close[-len(oil_close):]\n",
    "print('SPY/USO',coint(oil_close, spy_close)[1])\n",
    "\n",
    "spy_close = spy_close[-len(btc_close):]\n",
    "print('SPY/BTC',coint(btc_close, spy_close)[1])\n",
    "\n",
    "spy_close = spy_close[-len(eth_close):]\n",
    "print('SPY/ETH',coint(eth_close, spy_close)[1])\n",
    "\n",
    "spy_close = spy_close[-len(ltc_close):]\n",
    "print('SPY/LTC',coint(ltc_close, spy_close)[1])\n",
    "\n",
    "\n"
   ]
  }
 ],
 "metadata": {
  "kernelspec": {
   "display_name": "Python 3",
   "language": "python",
   "name": "python3"
  },
  "language_info": {
   "codemirror_mode": {
    "name": "ipython",
    "version": 3
   },
   "file_extension": ".py",
   "mimetype": "text/x-python",
   "name": "python",
   "nbconvert_exporter": "python",
   "pygments_lexer": "ipython3",
   "version": "3.7.3"
  }
 },
 "nbformat": 4,
 "nbformat_minor": 4
}
